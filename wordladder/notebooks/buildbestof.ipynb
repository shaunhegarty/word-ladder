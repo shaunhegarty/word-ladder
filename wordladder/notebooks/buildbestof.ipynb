{
 "cells": [
  {
   "cell_type": "code",
   "execution_count": 3,
   "metadata": {},
   "outputs": [],
   "source": [
    "import csv\n",
    "\n",
    "wiki_freq_file = 'resources/enwiki-20190320-words-frequency.txt'\n",
    "rows = []\n",
    "with open(wiki_freq_file) as csvfile:\n",
    "    reader = csv.reader(csvfile, delimiter=' ')\n",
    "    rows = [(row[0], int(row[1])) for row in reader]\n"
   ]
  },
  {
   "cell_type": "code",
   "execution_count": 6,
   "metadata": {},
   "outputs": [],
   "source": [
    "webster = 'resources/websters-dictionary.txt'\n",
    "with open(webster, 'r', encoding='utf-8') as dictionary:\n",
    "    webster_words = {word.strip() for word in dictionary}\n"
   ]
  },
  {
   "cell_type": "code",
   "execution_count": 13,
   "metadata": {},
   "outputs": [],
   "source": [
    "sowpods = 'resources/sowpods.txt'\n",
    "with open(sowpods, 'r', encoding='utf-8') as dictionary:\n",
    "    sowpods_words = {word.strip() for word in dictionary}"
   ]
  },
  {
   "cell_type": "code",
   "execution_count": 10,
   "metadata": {},
   "outputs": [],
   "source": [
    "best_of_both = {word for word, _ in rows if word in webster_words}"
   ]
  },
  {
   "cell_type": "code",
   "execution_count": 14,
   "metadata": {},
   "outputs": [],
   "source": [
    "best_of_all = {word for word in best_of_both if word in sowpods_words}"
   ]
  },
  {
   "cell_type": "code",
   "execution_count": 16,
   "metadata": {},
   "outputs": [
    {
     "data": {
      "text/plain": [
       "72737"
      ]
     },
     "execution_count": 16,
     "metadata": {},
     "output_type": "execute_result"
    }
   ],
   "source": [
    "len(best_of_all)"
   ]
  },
  {
   "cell_type": "code",
   "execution_count": 17,
   "metadata": {},
   "outputs": [],
   "source": [
    "with open('common.frequency.csv', 'w', newline='') as common_file:\n",
    "    commonwriter = csv.writer(common_file, delimiter=' ')\n",
    "    for word, frequency in rows:\n",
    "        if word in best_of_all:\n",
    "            commonwriter.writerow((word, frequency))\n"
   ]
  },
  {
   "cell_type": "code",
   "execution_count": 2,
   "metadata": {},
   "outputs": [],
   "source": [
    "import sys\n",
    "import os\n",
    "\n",
    "sys.path.append(\"/workspaces/word-ladder/wordladder\")\n",
    "os.chdir('/workspaces/word-ladder/wordladder')\n",
    "from ladder import WordLadder\n",
    "\n",
    "l = WordLadder()"
   ]
  },
  {
   "cell_type": "code",
   "execution_count": 27,
   "metadata": {},
   "outputs": [
    {
     "data": {
      "text/plain": [
       "['future']"
      ]
     },
     "execution_count": 27,
     "metadata": {},
     "output_type": "execute_result"
    }
   ],
   "source": [
    "l.get_graph(6).get('suture') # depress"
   ]
  }
 ],
 "metadata": {
  "interpreter": {
   "hash": "949777d72b0d2535278d3dc13498b2535136f6dfe0678499012e853ee9abcab1"
  },
  "kernelspec": {
   "display_name": "Python 3.10.2 64-bit",
   "language": "python",
   "name": "python3"
  },
  "language_info": {
   "codemirror_mode": {
    "name": "ipython",
    "version": 3
   },
   "file_extension": ".py",
   "mimetype": "text/x-python",
   "name": "python",
   "nbconvert_exporter": "python",
   "pygments_lexer": "ipython3",
   "version": "3.10.2"
  },
  "orig_nbformat": 4
 },
 "nbformat": 4,
 "nbformat_minor": 2
}
